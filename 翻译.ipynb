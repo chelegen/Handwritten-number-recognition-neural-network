{
 "cells": [
  {
   "cell_type": "code",
   "execution_count": 572,
   "metadata": {},
   "outputs": [],
   "source": [
    "import numpy as np\n",
    "import math"
   ]
  },
  {
   "cell_type": "code",
   "execution_count": 573,
   "metadata": {},
   "outputs": [],
   "source": [
    "def tanh(x):\n",
    "    return np.tanh(x)\n",
    "def softmax(x):\n",
    "#     exp = np.exp(x)\n",
    "    exp = np.exp(x-x.max()) \n",
    "    #防止指数爆炸\n",
    "    #Prevent exponential explosion\n",
    "    \n",
    "    return exp/exp.sum()"
   ]
  },
  {
   "cell_type": "code",
   "execution_count": 574,
   "metadata": {},
   "outputs": [],
   "source": [
    "dimensions = [28*28 , 10]      #规模定义(scale)\n",
    "activation = [tanh , softmax]  #激活函数(Activation Function)\n",
    "distribution = [\n",
    "    {'b':[0,0]},\n",
    "    {'b':[0,0],'w':[-math.sqrt(6/(dimensions[0]+dimensions[1])),math.sqrt(6/(dimensions[0]+dimensions[1]))]}   \n",
    "    #防止激活函数饱和\n",
    "    #Prevent activation function saturation\n",
    "]"
   ]
  },
  {
   "cell_type": "code",
   "execution_count": 575,
   "metadata": {},
   "outputs": [],
   "source": [
    "def init_parameters_b(layer):      #初始化b (initialize b)\n",
    "    dist = distribution[layer]['b']\n",
    "    return np.random.rand(dimensions[layer])*(dist[1]-dist[0])+dist[0]\n",
    "def init_parameters_w(layer):     #初始化w (initialize w)\n",
    "    dist = distribution[layer]['w']\n",
    "    return np.random.rand(dimensions[layer-1],dimensions[layer])*(dist[1]-dist[0])+dist[0]\n",
    "def init_parameters():\n",
    "    parameters = []\n",
    "    for i in range(len(distribution)):\n",
    "        layer_parameters = {}\n",
    "        for j in distribution[i].keys():\n",
    "            if j == 'b':\n",
    "                layer_parameters['b'] = init_parameters_b(i)\n",
    "            if j == 'w':\n",
    "                layer_parameters['w'] = init_parameters_w(i)\n",
    "                continue\n",
    "        parameters.append(layer_parameters)\n",
    "    return parameters"
   ]
  },
  {
   "cell_type": "code",
   "execution_count": 576,
   "metadata": {},
   "outputs": [],
   "source": [
    "parameters = init_parameters()"
   ]
  },
  {
   "cell_type": "code",
   "execution_count": 577,
   "metadata": {},
   "outputs": [],
   "source": [
    "def predict(img , parameters):\n",
    "    # l0 = A(data + b0)\n",
    "    l0_in = img + parameters[0]['b']\n",
    "    l0_out = activation[0](l0_in)\n",
    "    \n",
    "    #output = A'(vec(l0*w1) + b1)\n",
    "    l1_in = np.dot(l0_out , parameters[1]['w']) + parameters[1]['b']\n",
    "    l1_out = activation[1](l1_in)\n",
    "    \n",
    "    return l1_out"
   ]
  },
  {
   "cell_type": "code",
   "execution_count": 578,
   "metadata": {
    "scrolled": true
   },
   "outputs": [
    {
     "data": {
      "text/plain": [
       "array([0.01898631, 0.09921247, 0.04481209, 0.05991421, 0.29980984,\n",
       "       0.07624215, 0.16302448, 0.05564501, 0.10775689, 0.07459655])"
      ]
     },
     "execution_count": 578,
     "metadata": {},
     "output_type": "execute_result"
    }
   ],
   "source": [
    "#测试(test)\n",
    "predict(np.random.rand(784),parameters)#.argmax() # 最大值位置"
   ]
  },
  {
   "cell_type": "code",
   "execution_count": 579,
   "metadata": {},
   "outputs": [],
   "source": [
    "from pathlib import Path"
   ]
  },
  {
   "cell_type": "code",
   "execution_count": 580,
   "metadata": {},
   "outputs": [],
   "source": [
    "dataset_path = Path('D:/M')# 根目录 (root directory)\n",
    "train_img_path = dataset_path/'train-images.idx3-ubyte'\n",
    "train_lab_path = dataset_path/'train-labels.idx1-ubyte'\n",
    "test_img_path = dataset_path/'t10k-images.idx3-ubyte'\n",
    "test_lab_path = dataset_path/'t10k-labels.idx1-ubyte'"
   ]
  },
  {
   "cell_type": "code",
   "execution_count": 581,
   "metadata": {},
   "outputs": [],
   "source": [
    "import struct"
   ]
  },
  {
   "cell_type": "code",
   "execution_count": 582,
   "metadata": {},
   "outputs": [],
   "source": [
    "train_num=50000\n",
    "valid_num=10000\n",
    "test_num=10000\n",
    "\n",
    "with open(train_img_path,'rb') as f:\n",
    "    struct.unpack('>4i',f.read(16))  # 4 个 integer\n",
    "    tmp_img=np.fromfile(f,dtype=np.uint8).reshape(-1,28*28)/255         # u:无符号  int:整形   8:1字节\n",
    "    train_img=tmp_img[:train_num]\n",
    "    valid_img=tmp_img[train_num:]\n",
    "with open(test_img_path,'rb') as f:\n",
    "    struct.unpack('>4i',f.read(16))\n",
    "    test_img=np.fromfile(f,dtype=np.uint8).reshape(-1,28*28)/255     # /255 -> 防止二值化\n",
    "    # Prevent binarization 防止二值化\n",
    "\n",
    "with open(train_lab_path,'rb') as f:\n",
    "    struct.unpack('>2i',f.read(8))\n",
    "    tmp_lab=np.fromfile(f,dtype=np.uint8)\n",
    "    train_lab=tmp_lab[:train_num]\n",
    "    valid_lab=tmp_lab[train_num:]\n",
    "    \n",
    "with open(test_lab_path,'rb') as f:\n",
    "    struct.unpack('>2i',f.read(8))\n",
    "    test_lab=np.fromfile(f,dtype=np.uint8)"
   ]
  },
  {
   "cell_type": "code",
   "execution_count": 583,
   "metadata": {},
   "outputs": [],
   "source": [
    "#train_img[0].reshape(28,28)"
   ]
  },
  {
   "cell_type": "code",
   "execution_count": 584,
   "metadata": {},
   "outputs": [],
   "source": [
    "import matplotlib.pyplot as plt"
   ]
  },
  {
   "cell_type": "code",
   "execution_count": 585,
   "metadata": {},
   "outputs": [
    {
     "data": {
      "text/plain": [
       "<matplotlib.image.AxesImage at 0x206023c1358>"
      ]
     },
     "execution_count": 585,
     "metadata": {},
     "output_type": "execute_result"
    },
    {
     "data": {
      "image/png": "[encoded data removed]",
      "text/plain": [
       "<Figure size 432x288 with 1 Axes>"
      ]
     },
     "metadata": {
      "needs_background": "light"
     },
     "output_type": "display_data"
    }
   ],
   "source": [
    "img = train_img[0].reshape(28,28)\n",
    "plt.imshow(img,cmap = 'gray')"
   ]
  },
  {
   "cell_type": "code",
   "execution_count": 586,
   "metadata": {},
   "outputs": [],
   "source": [
    "def show_train(index):\n",
    "    plt.imshow(train_img[index].reshape(28,28),cmap='gray')\n",
    "    print('label : {}'.format(train_lab[index]))\n",
    "def show_valid(index): #验证集\n",
    "    plt.imshow(valid_img[index].reshape(28,28),cmap='gray')\n",
    "    print('label : {}'.format(valid_lab[index]))\n",
    "    '''\n",
    "    Que: Why is there one more valid(验证集)?\n",
    "    Ans：Prevent overfitting(过拟合)\n",
    "    '''\n",
    "    \n",
    "def show_test(index):\n",
    "    plt.imshow(test_img[index].reshape(28,28),cmap='gray')\n",
    "    print('label : {}'.format(test_lab[index]))\n",
    "    \n",
    "    \n",
    "    '''\n",
    "    训练集：训练模型\n",
    "    验证集：对模型不可见，对自己可见\n",
    "    测试集：所有不可见，不适合预测过多次，否则失效(过拟合) => 最终测试\n",
    "    \n",
    "    **过拟合**：对于训练集样本，拟合程度很好，但对于测试集样本，预测效果差 (在验证集中表现非常好，但是测试时完全崩溃的现象) \n",
    "\n",
    "    Training set: training model\n",
    "    Validation set: invisible to model, visible to self\n",
    "    Test set: all invisible, not suitable for multiple predictions, otherwise failure (overfitting)\n",
    "    ** overfitting ** : for the training set sample, the fitting degree is very good, but for the test set sample, the prediction effect is poor (the performance in the verification set is very good, but the test completely crashes)\n",
    "    '''"
   ]
  },
  {
   "cell_type": "code",
   "execution_count": 587,
   "metadata": {},
   "outputs": [
    {
     "data": {
      "text/plain": [
       "array([[ 1,  2,  3,  4],\n",
       "       [ 2,  4,  6,  8],\n",
       "       [ 3,  6,  9, 12],\n",
       "       [ 4,  8, 12, 16]])"
      ]
     },
     "execution_count": 587,
     "metadata": {},
     "output_type": "execute_result"
    }
   ],
   "source": [
    "np.outer([1,2,3,4],[1,2,3,4])"
   ]
  },
  {
   "cell_type": "code",
   "execution_count": 588,
   "metadata": {},
   "outputs": [],
   "source": [
    "#测试\n",
    "def d_softmax(data):\n",
    "    sm = softmax(data)\n",
    "    return np.diag(sm)-np.outer(sm,sm)\n",
    "\n",
    "def d_tanh(data):\n",
    "    return 1/(np.cosh(data))**2\n",
    "    #return np.diag(1/(np.cosh(data))**2)"
   ]
  },
  {
   "cell_type": "code",
   "execution_count": 589,
   "metadata": {},
   "outputs": [],
   "source": [
    "differential = {softmax:d_softmax,tanh:d_tanh}"
   ]
  },
  {
   "cell_type": "code",
   "execution_count": 590,
   "metadata": {},
   "outputs": [
    {
     "data": {
      "text/plain": [
       "array([0.41997434, 0.07065082, 0.00986604, 0.00134095])"
      ]
     },
     "execution_count": 590,
     "metadata": {},
     "output_type": "execute_result"
    }
   ],
   "source": [
    "d_tanh([1,2,3,4])"
   ]
  },
  {
   "cell_type": "code",
   "execution_count": 591,
   "metadata": {},
   "outputs": [
    {
     "data": {
      "text/plain": [
       "array([[ 0.03103085, -0.00279373, -0.00759413, -0.02064299],\n",
       "       [-0.00279373,  0.07955019, -0.02064299, -0.05611347],\n",
       "       [-0.00759413, -0.02064299,  0.18076935, -0.15253222],\n",
       "       [-0.02064299, -0.05611347, -0.15253222,  0.22928869]])"
      ]
     },
     "execution_count": 591,
     "metadata": {},
     "output_type": "execute_result"
    }
   ],
   "source": [
    "d_softmax(np.array([1,2,3,4]))"
   ]
  },
  {
   "cell_type": "code",
   "execution_count": 592,
   "metadata": {},
   "outputs": [
    {
     "name": "stdout",
     "output_type": "stream",
     "text": [
      "[-4.73825368e-08  1.55529246e-08  1.71602916e-08  1.46693206e-08]\n",
      "[ 9.99691165e-09 -4.64799127e-08  1.74726183e-08  1.90103827e-08]\n",
      "[ 1.29223372e-08  2.37585304e-08 -4.72397742e-08  1.08087068e-08]\n",
      "[ 1.47842944e-08  1.61833861e-08  1.61668727e-08 -4.71900643e-08]\n"
     ]
    }
   ],
   "source": [
    "# softmax\n",
    "h=1e-6\n",
    "func=softmax\n",
    "input_len=4\n",
    "for i in range(input_len):\n",
    "    test_input=np.random.rand(input_len)\n",
    "    derivative=differential[func](test_input)\n",
    "    value1=func(test_input)\n",
    "    test_input[i]+=h\n",
    "    value2=func(test_input)\n",
    "#     print((value2-value1)/h)\n",
    "#     print(derivative[i])\n",
    "    print(derivative[i]-(value2-value1)/h)"
   ]
  },
  {
   "cell_type": "code",
   "execution_count": 593,
   "metadata": {},
   "outputs": [
    {
     "name": "stdout",
     "output_type": "stream",
     "text": [
      "3.6061279629073795e-08\n",
      "5.3164307400876964e-09\n",
      "3.86801948248916e-08\n",
      "3.7918786222057577e-08\n"
     ]
    }
   ],
   "source": [
    "# tanh\n",
    "h=0.1e-6\n",
    "func=tanh\n",
    "input_len=4\n",
    "for i in range(input_len):\n",
    "    test_input=np.random.rand(input_len)\n",
    "    derivative=differential[func](test_input)\n",
    "    value1=func(test_input)\n",
    "    test_input[i]+=h\n",
    "    value2=func(test_input)\n",
    "#     print((value2-value1)/h)\n",
    "#     print(derivative[i])\n",
    "    print(derivative[i]-((value2-value1)/h)[i])"
   ]
  },
  {
   "cell_type": "code",
   "execution_count": 594,
   "metadata": {},
   "outputs": [],
   "source": [
    "onehot=np.identity(dimensions[-1])"
   ]
  },
  {
   "cell_type": "code",
   "execution_count": 595,
   "metadata": {},
   "outputs": [],
   "source": [
    "def sqr_loss(img,lab,parameters):    # 图片,对应label,参数\n",
    "    y_pred=predict(img,parameters)\n",
    "    y=onehot[lab]\n",
    "    diff=y-y_pred\n",
    "    return np.dot(diff,diff)"
   ]
  },
  {
   "cell_type": "code",
   "execution_count": 596,
   "metadata": {},
   "outputs": [
    {
     "data": {
      "text/plain": [
       "0.9649463113955637"
      ]
     },
     "execution_count": 596,
     "metadata": {},
     "output_type": "execute_result"
    }
   ],
   "source": [
    "sqr_loss(train_img[0],train_lab[0],parameters)"
   ]
  },
  {
   "cell_type": "code",
   "execution_count": 597,
   "metadata": {},
   "outputs": [],
   "source": [
    "def grad_parameters(img,lab,parameters):\n",
    "    l0_in = img + parameters[0]['b']\n",
    "    l0_out = activation[0](l0_in)\n",
    "    l1_in = np.dot(l0_out , parameters[1]['w']) + parameters[1]['b']\n",
    "    l1_out = activation[1](l1_in)     # 复制上方predict函数\n",
    "    \n",
    "    diff = onehot[lab] - l1_out\n",
    "    act1 = np.dot(differential[activation[1]](l1_in),diff)\n",
    "    grad_b1 = -2 * act1\n",
    "    grad_w1 = -2 * np.outer(l0_out,act1)\n",
    "    grad_b0 = -2 * differential[activation[0]](l0_in) * np.dot(parameters[1]['w'],act1)\n",
    "    return {'w1':grad_w1,'b1':grad_b1,'b0':grad_b0}"
   ]
  },
  {
   "cell_type": "code",
   "execution_count": 598,
   "metadata": {},
   "outputs": [
    {
     "data": {
      "text/plain": [
       "{'w1': array([[0., 0., 0., ..., 0., 0., 0.],\n",
       "        [0., 0., 0., ..., 0., 0., 0.],\n",
       "        [0., 0., 0., ..., 0., 0., 0.],\n",
       "        ...,\n",
       "        [0., 0., 0., ..., 0., 0., 0.],\n",
       "        [0., 0., 0., ..., 0., 0., 0.],\n",
       "        [0., 0., 0., ..., 0., 0., 0.]]),\n",
       " 'b1': array([ 0.02620746,  0.00781404,  0.00977071,  0.01006593, -0.19332863,\n",
       "         0.00625826,  0.00896204,  0.00846535,  0.01403042,  0.10175443]),\n",
       " 'b0': array([-5.08895188e-03,  9.01622588e-03, -8.84483859e-03, -4.58713117e-03,\n",
       "        -5.82230159e-03, -2.23077247e-02,  1.08523591e-03, -1.41101156e-03,\n",
       "         1.10786776e-02, -2.06395669e-02, -6.73169069e-03, -1.66847403e-02,\n",
       "        -1.57548095e-02,  2.03611463e-02, -4.21893047e-03, -2.06456509e-02,\n",
       "        -1.21526445e-02,  3.23010674e-03,  1.76333180e-03,  1.02844768e-02,\n",
       "        -9.73985237e-03, -1.44835246e-02, -2.23488808e-03,  3.92128159e-03,\n",
       "        -9.68960303e-03, -2.45604099e-03, -5.52009200e-03,  1.89496876e-02,\n",
       "        -1.00595839e-02, -1.23468488e-02,  2.05520322e-02, -1.00321660e-02,\n",
       "         2.05132699e-03,  1.98286404e-03,  3.98112433e-03,  1.79826877e-03,\n",
       "         1.73421346e-02, -1.11537399e-02,  7.50882170e-03, -1.58326890e-02,\n",
       "        -8.39101571e-03, -1.39235765e-02,  2.64905471e-03, -9.98774033e-03,\n",
       "         1.61438320e-02, -1.61961906e-02, -2.45803728e-02, -7.86018069e-03,\n",
       "         4.61554873e-03, -1.16505987e-03, -2.97459217e-03,  4.25034626e-03,\n",
       "        -1.46428199e-02,  9.25481608e-03, -4.22389809e-03, -1.33164100e-02,\n",
       "        -4.20685493e-03, -1.25364199e-02,  2.03533805e-02,  1.37401050e-02,\n",
       "         2.69596308e-04, -3.46987101e-03, -5.41647535e-03, -1.03794673e-02,\n",
       "        -1.11554211e-02, -6.32696509e-04,  1.55309491e-03, -7.68337085e-04,\n",
       "        -9.99118627e-03, -1.16602179e-02,  1.09254613e-02, -1.29826959e-03,\n",
       "         8.76665161e-03,  1.50302199e-02, -1.38764868e-02, -6.43839601e-03,\n",
       "         7.50201444e-03, -3.81665408e-03, -8.97462210e-03,  1.91068975e-02,\n",
       "         1.19740827e-02,  1.39863624e-02,  6.16540977e-03, -1.58808619e-02,\n",
       "         1.06236939e-02,  8.04678515e-03, -1.60877689e-02, -7.21584148e-03,\n",
       "        -9.97078418e-04, -1.36461472e-03,  1.46685981e-02, -1.16833915e-02,\n",
       "        -1.73145218e-02, -1.37451953e-02,  1.77960043e-02,  2.69332503e-03,\n",
       "        -2.00771832e-02,  3.66302101e-04, -1.61941405e-02, -7.94078312e-03,\n",
       "         2.54677863e-04,  1.14231224e-02,  5.59886916e-03, -2.29206001e-03,\n",
       "         2.25404143e-02,  2.06006578e-02, -4.36601248e-03,  1.05518453e-02,\n",
       "        -2.95999272e-03, -1.62065225e-03, -4.67047266e-03,  2.65590704e-03,\n",
       "         5.56848820e-03,  1.38778824e-03,  1.44572295e-03,  9.31521411e-03,\n",
       "        -9.54859145e-05, -6.46465160e-03, -8.29221111e-03, -1.22972301e-02,\n",
       "        -7.38104710e-03,  2.80757042e-03,  1.24301953e-02, -3.67163312e-03,\n",
       "        -8.61643828e-03,  1.31540323e-02,  6.83786821e-03, -2.90185311e-03,\n",
       "         2.76694926e-03,  1.07792971e-02,  5.84275114e-03, -1.34368927e-02,\n",
       "         7.42517706e-04,  5.97950697e-03, -3.46504885e-03, -1.42028718e-04,\n",
       "        -2.79711613e-03, -1.25505904e-02,  1.07217250e-02, -1.48162188e-03,\n",
       "        -6.92043953e-04, -6.74062703e-03, -1.91225585e-02,  1.67218534e-03,\n",
       "        -1.46144387e-02, -1.72247194e-02, -9.54465541e-03, -7.02469336e-03,\n",
       "         1.40145615e-02,  8.75385598e-03,  1.15611554e-02, -1.73615348e-02,\n",
       "         7.79803227e-03,  1.02284280e-02, -5.92277858e-03, -1.45549988e-02,\n",
       "        -1.09512789e-02,  9.89551514e-03,  1.79033552e-02,  2.10420148e-02,\n",
       "         6.35405674e-03, -3.18331927e-03,  1.23271861e-02, -3.97845366e-03,\n",
       "         1.57062721e-02, -4.21347594e-03, -1.82136466e-02,  1.08407128e-02,\n",
       "        -5.64478775e-03,  1.34937416e-02, -1.92080085e-02, -1.18492634e-02,\n",
       "        -3.93448631e-03, -1.41140309e-02, -5.40092485e-03, -5.96319860e-03,\n",
       "        -1.88375256e-02,  2.44560979e-02,  1.79895845e-03,  1.77616346e-02,\n",
       "         7.92264921e-04, -8.37964808e-03, -1.04113811e-02, -2.33862035e-03,\n",
       "        -7.25604758e-03, -1.52490171e-02,  5.16688254e-03, -1.77253331e-02,\n",
       "         6.44402389e-03, -1.79776195e-03, -5.08978612e-03,  2.33797464e-03,\n",
       "        -1.87948869e-04, -1.57327658e-04, -2.25861502e-03, -7.30897786e-03,\n",
       "         1.71316869e-02,  7.35826649e-03,  2.35320735e-03, -1.73736226e-03,\n",
       "         5.37169952e-04,  6.65708322e-03, -7.98001004e-04, -9.00164620e-03,\n",
       "        -9.96652637e-03,  7.96500649e-03,  1.14388183e-02,  2.91495434e-03,\n",
       "        -1.86178090e-02,  4.94276944e-03, -1.79925000e-02,  2.11629508e-02,\n",
       "        -3.69261320e-03,  1.67886394e-02, -1.31452944e-02,  4.61018736e-03,\n",
       "        -1.15061000e-02,  1.52002882e-03, -9.62423347e-03, -1.06089445e-02,\n",
       "         1.20806727e-02,  8.67808771e-03,  1.25736629e-02, -1.03540886e-02,\n",
       "         1.50550092e-02, -6.82635465e-03, -1.83714728e-02, -1.83693967e-02,\n",
       "         2.02507687e-03,  1.23668847e-02,  1.62193099e-02,  1.75384138e-02,\n",
       "        -7.75879803e-03,  1.90642150e-02, -3.72215795e-03,  1.37424257e-02,\n",
       "         1.19153191e-02,  8.64427454e-03, -2.53723516e-04, -4.94019911e-03,\n",
       "         2.61283810e-02, -5.07149863e-03,  3.39123917e-03,  9.94197550e-03,\n",
       "        -3.95075120e-03, -2.06536632e-03,  2.46426421e-03, -1.03179870e-02,\n",
       "        -5.77175926e-04,  1.48199731e-02,  2.11332576e-02,  1.53103128e-02,\n",
       "        -1.42503537e-02, -4.16393489e-03, -5.86348833e-04,  3.77506229e-03,\n",
       "         1.16979371e-02,  2.73380229e-03,  1.55018045e-02,  9.03975740e-03,\n",
       "        -1.06368999e-02,  1.41779556e-02,  6.00725626e-03, -1.38795622e-02,\n",
       "        -6.35521180e-03, -3.72364852e-03, -1.43885571e-02,  1.37757004e-02,\n",
       "         8.74144289e-03,  1.84105464e-02, -1.45268870e-02,  9.66418729e-03,\n",
       "        -7.91190517e-03, -1.03664848e-02, -2.75291740e-03,  1.83746663e-02,\n",
       "         6.44550221e-03, -4.60173763e-03,  4.96985882e-03,  1.64855168e-02,\n",
       "        -9.61853243e-03,  2.48318846e-03,  1.32385961e-03, -4.13665397e-03,\n",
       "        -1.15018503e-03, -1.03507393e-02,  1.37763610e-02, -4.95636157e-03,\n",
       "        -1.37633629e-02, -8.49706423e-03,  1.44149152e-02,  5.32392899e-03,\n",
       "        -2.35353031e-02,  1.17667046e-02,  1.79114971e-02, -2.10754893e-03,\n",
       "         2.06580269e-02, -2.08851144e-02,  1.39818231e-02,  1.06496238e-02,\n",
       "         4.03054086e-04, -3.68280261e-03, -1.03725284e-02,  1.19281404e-02,\n",
       "         1.14137650e-02, -1.22628709e-02, -1.22108067e-02,  1.82100352e-02,\n",
       "         2.59521905e-03, -1.50159637e-03, -8.30337591e-03, -3.85020993e-03,\n",
       "        -7.65035264e-04, -8.53778476e-04, -5.95235359e-03, -6.72906000e-03,\n",
       "         1.93424756e-02,  7.77593942e-03, -1.42376190e-02,  1.16337145e-02,\n",
       "         1.95437226e-02,  3.16819554e-03, -1.30452941e-02,  1.51114110e-02,\n",
       "         1.35995338e-03, -6.95715941e-03,  5.46249241e-03,  3.57743651e-04,\n",
       "         1.02727887e-03,  7.80600788e-03,  7.46069345e-03, -1.58931327e-02,\n",
       "         1.01088042e-02,  2.05126886e-02, -2.31046934e-02,  7.96467366e-03,\n",
       "         3.76190748e-03,  9.37954267e-03, -1.18486283e-02,  1.22887846e-02,\n",
       "         8.96192548e-03,  2.33881372e-03, -1.05870511e-02, -1.71929204e-02,\n",
       "        -1.48684662e-02, -1.42218576e-02, -1.67073059e-02, -3.13485454e-03,\n",
       "         1.50228763e-02, -1.45726017e-02,  1.16700275e-02, -1.71172161e-02,\n",
       "        -6.84499602e-04,  6.57696421e-04, -1.32760635e-04, -4.51468136e-03,\n",
       "        -9.26448425e-03, -1.61050164e-03,  4.60756066e-03,  2.18613396e-02,\n",
       "         1.17378484e-03, -3.10728253e-03,  8.01885703e-03,  1.35120221e-02,\n",
       "         5.82180955e-03,  3.95795334e-03, -3.13421565e-03, -8.40376262e-03,\n",
       "         4.62964323e-03, -5.85064899e-03, -4.92416989e-03,  1.30759070e-02,\n",
       "         2.63287865e-03, -8.46894750e-03, -1.35427866e-02, -2.08120303e-02,\n",
       "        -4.90571841e-03, -8.87582601e-03, -1.18927252e-02,  7.23845107e-03,\n",
       "         7.37060948e-04, -7.55768512e-03,  2.45677971e-03, -3.59552942e-03,\n",
       "         1.29763548e-02, -8.94382373e-04,  9.76391397e-03, -3.29475194e-03,\n",
       "        -3.94176544e-03,  3.07763075e-03, -3.33950739e-03, -1.03827360e-02,\n",
       "        -2.36150074e-02,  6.69591620e-03,  9.43768175e-03,  9.55994008e-03,\n",
       "         6.81428912e-03, -8.11141745e-03, -3.21539463e-03,  4.92046241e-03,\n",
       "        -1.20100243e-02, -1.69874015e-02,  7.62939802e-03, -1.02639631e-02,\n",
       "        -2.43577156e-03,  7.96800575e-04, -4.27207729e-03,  1.01797450e-02,\n",
       "         1.21156036e-02,  2.61273686e-03, -1.92975602e-04,  1.41462804e-03,\n",
       "        -1.43906868e-02,  2.34954036e-03,  3.15387834e-04, -1.68648035e-02,\n",
       "        -1.70571775e-02, -1.37896255e-02, -9.34003544e-03, -9.91667898e-05,\n",
       "         1.10737849e-02, -1.52628246e-02,  4.75966803e-03,  1.33121390e-02,\n",
       "        -5.52746168e-03,  2.73583903e-04, -9.54447628e-03,  4.42462898e-03,\n",
       "         5.28317748e-03,  2.92405411e-03,  5.26572210e-03,  3.14396854e-03,\n",
       "         1.72231418e-03, -5.31287385e-03,  2.01480548e-03,  1.15395895e-02,\n",
       "        -9.61785256e-03,  4.95137896e-03,  6.71815749e-03, -5.49357873e-03,\n",
       "         5.47968031e-03, -4.46036792e-03, -2.90977592e-04,  1.45325079e-02,\n",
       "        -4.13495456e-03, -4.93279215e-03,  6.03179952e-03,  1.68934240e-03,\n",
       "         8.84684200e-03, -1.61268024e-02, -4.14483815e-03,  2.10887650e-02,\n",
       "        -1.43783771e-02,  4.00568815e-03, -2.30679608e-03,  4.43620775e-03,\n",
       "        -5.58171206e-03, -6.55006161e-03,  5.31499405e-03, -1.35974555e-02,\n",
       "        -9.53295752e-03, -2.28515698e-03, -4.00470431e-03,  1.60357886e-02,\n",
       "         1.29093143e-02,  1.97292268e-03,  4.10783216e-03,  6.41129749e-03,\n",
       "        -1.02026182e-02, -7.43792683e-03,  6.82090327e-03,  1.79866663e-02,\n",
       "        -5.91598208e-04, -5.60476363e-03,  1.45812162e-02,  2.84997302e-03,\n",
       "         2.68637323e-03, -1.30616175e-02, -2.97027235e-03, -1.96634928e-02,\n",
       "         8.93016238e-03,  1.45962997e-02, -2.15893032e-02,  4.11753879e-04,\n",
       "         1.62673386e-02,  2.14092834e-02, -3.64705514e-03,  8.78686475e-03,\n",
       "        -1.70804554e-02,  1.98004277e-03,  5.93602727e-03, -1.11920170e-02,\n",
       "         1.23588143e-02, -8.23679653e-03,  2.45998355e-03,  1.17574944e-02,\n",
       "         9.12186431e-03,  8.65769076e-03, -2.39932895e-02,  2.24531790e-02,\n",
       "        -5.56285075e-03, -4.55621090e-03,  4.96965541e-03, -1.93870328e-02,\n",
       "         2.97914876e-03,  1.12493928e-03, -6.55194213e-03, -1.07842936e-02,\n",
       "        -1.26873686e-02,  1.01591507e-02, -1.69203903e-02,  3.46437731e-03,\n",
       "         1.07708190e-02, -1.50447921e-03, -1.73099671e-02,  1.22218424e-02,\n",
       "        -2.33510889e-02,  4.80541341e-03, -1.47909423e-02, -1.19505106e-02,\n",
       "        -8.25154214e-03,  8.38903637e-03, -1.29861444e-03, -1.32728672e-02,\n",
       "         1.03389366e-02, -9.71507501e-03, -5.85428750e-03, -1.08741487e-02,\n",
       "        -6.07569543e-03, -1.28684449e-02, -4.96019365e-03, -4.81186012e-03,\n",
       "        -8.80565417e-03, -3.05704146e-03,  6.45045837e-03, -1.51832796e-02,\n",
       "         1.79748579e-02,  1.16176413e-02,  1.09116421e-03,  9.93331605e-03,\n",
       "         5.51444278e-03,  7.36829236e-03,  4.90733150e-03, -5.77904639e-03,\n",
       "        -8.42002554e-03,  9.35895612e-03,  6.11855091e-03, -1.39355117e-02,\n",
       "        -3.55022644e-03, -1.29808845e-02, -9.11370075e-03, -1.33875718e-02,\n",
       "         6.92857858e-03, -2.22129643e-02, -9.52893652e-03, -1.82725840e-02,\n",
       "        -1.33083027e-02, -7.92531674e-03, -7.78099052e-03, -9.37740993e-03,\n",
       "        -7.17198309e-03,  4.77803779e-03,  8.13812196e-03,  1.99370085e-02,\n",
       "        -1.20703569e-02, -9.78224306e-03,  1.46142528e-02,  8.06203464e-03,\n",
       "         1.23987239e-02,  3.70211669e-03,  8.04819967e-03, -7.35093714e-03,\n",
       "        -1.38985921e-02, -1.34150346e-02, -1.85046059e-03,  1.52064353e-03,\n",
       "        -2.52808592e-03, -7.24028872e-03,  4.65687311e-03,  3.70014410e-03,\n",
       "         5.91714887e-03,  5.54921768e-03,  1.16805896e-02, -3.07482158e-03,\n",
       "         1.67733699e-02, -1.84142888e-02,  1.10701414e-02,  1.58217851e-02,\n",
       "        -1.35711047e-03, -1.84297954e-02,  1.62125749e-02,  2.37039834e-02,\n",
       "        -1.19140256e-02,  1.66051092e-03, -6.73973301e-03, -1.37056475e-02,\n",
       "        -9.78291352e-03,  1.26255250e-02, -1.90697108e-05,  2.09429746e-02,\n",
       "         7.23252338e-03,  1.84172234e-02,  3.76843344e-03,  1.56391836e-03,\n",
       "        -2.71413066e-03, -1.49719383e-02,  8.12386433e-03,  6.64894084e-03,\n",
       "         2.55774215e-03,  5.25927467e-03,  1.19321835e-04, -8.09230650e-03,\n",
       "        -2.10445629e-02,  1.08859076e-02, -5.01434387e-03,  7.94748696e-03,\n",
       "        -2.51102235e-02,  1.92632932e-03,  4.73938802e-03,  1.99873526e-02,\n",
       "        -1.36375265e-02,  4.67545734e-03,  4.86834858e-03, -1.31348849e-02,\n",
       "         3.96798319e-03,  1.31905339e-02, -2.02620396e-04,  8.69873861e-03,\n",
       "         7.01869585e-03,  1.24242719e-02,  1.31409725e-02,  8.13036356e-03,\n",
       "         6.16345031e-03,  2.10247851e-03,  6.82203514e-03, -8.80007577e-03,\n",
       "         6.30359912e-04,  9.37914712e-03,  3.82074023e-03, -1.75480334e-02,\n",
       "        -1.42694175e-02,  1.20809912e-02,  3.63500526e-03, -7.48412878e-03,\n",
       "         8.75150036e-03, -5.00155140e-03, -5.97076307e-03, -1.20981870e-02,\n",
       "        -1.10455628e-02, -4.35058119e-03, -7.83290955e-03,  2.31451759e-02,\n",
       "        -1.58835449e-02,  7.90651093e-03, -1.56841795e-02,  1.55906144e-02,\n",
       "        -6.86826180e-03, -1.05552094e-02, -1.28020820e-02,  1.01713549e-02,\n",
       "        -7.65562742e-03,  1.19996155e-03,  5.78157483e-03,  2.65942668e-03,\n",
       "         3.47403962e-03, -1.37258263e-02,  1.85209050e-02,  1.15582519e-02,\n",
       "        -3.65915398e-03,  1.67753557e-02,  1.48705337e-02,  6.94070598e-03,\n",
       "         1.79130928e-02, -2.09541335e-03,  2.09716367e-03,  3.62852894e-03,\n",
       "        -5.73064387e-04, -6.13249661e-03,  1.68106920e-02, -1.87928273e-02,\n",
       "        -4.47159893e-03,  1.33521792e-02,  1.23664417e-02,  7.39214930e-04,\n",
       "        -1.11320020e-02,  9.52142074e-03,  1.81035999e-03, -4.20152252e-03,\n",
       "         1.05432628e-02,  3.97039226e-03, -7.18985997e-03, -3.29505921e-03,\n",
       "        -1.44017079e-03,  4.66121137e-04, -1.93696166e-02,  4.79528010e-03,\n",
       "         1.69570804e-03,  6.69245841e-03,  4.60049016e-03,  7.49536362e-03,\n",
       "         2.21348119e-02, -3.36125351e-03, -3.04412863e-03, -5.76491577e-03,\n",
       "        -9.24339165e-03, -9.59901591e-03, -2.54432462e-02,  1.29607592e-02,\n",
       "         1.88401430e-03,  4.83212140e-03,  6.92688392e-03, -1.60269782e-03,\n",
       "        -1.15606573e-02,  8.03483050e-03,  1.01415948e-02,  1.09288871e-02,\n",
       "         2.99932383e-03,  1.35033376e-03, -8.99691554e-03,  3.14066962e-04,\n",
       "        -6.60119928e-03, -8.01685640e-03, -1.70652438e-02,  6.95862546e-04,\n",
       "         3.78179107e-03,  1.69703142e-02,  7.91895650e-03,  5.14979847e-03,\n",
       "         1.04574957e-02, -8.03768085e-03, -2.62989016e-03,  1.54869349e-02,\n",
       "        -4.72142672e-04,  1.38924644e-02, -2.16529412e-02,  1.69649174e-02,\n",
       "        -1.08632832e-02,  7.34846522e-04, -3.76328012e-03, -5.74758897e-03,\n",
       "        -1.37678151e-03,  6.29745231e-03,  3.42884652e-03, -1.27132692e-02,\n",
       "        -8.76454324e-04,  1.78214663e-02,  1.06028173e-02,  1.02114292e-02,\n",
       "        -1.58466897e-03,  2.49732839e-02,  1.66509059e-02,  9.75385154e-03,\n",
       "        -1.02734583e-02,  1.06114465e-02,  1.21766444e-02, -1.26618491e-03,\n",
       "        -2.16367773e-02, -5.35886520e-03,  1.10072423e-02,  2.34188461e-03,\n",
       "         3.03968053e-04,  4.26018600e-03,  1.50365978e-02, -1.26216772e-02,\n",
       "         1.01904125e-02, -1.13318817e-02, -1.25403930e-02,  7.49691279e-03,\n",
       "        -3.03041348e-03, -6.14570666e-03,  9.64327238e-04, -4.57741004e-03,\n",
       "        -6.64606267e-03, -6.78200817e-04, -9.63714640e-04, -1.31711211e-02,\n",
       "        -4.51610284e-03, -6.18884504e-03,  3.68129752e-03, -9.38945674e-03,\n",
       "        -6.19733361e-03,  7.56557103e-03,  1.81087202e-02, -9.22706945e-03])}"
      ]
     },
     "execution_count": 598,
     "metadata": {},
     "output_type": "execute_result"
    }
   ],
   "source": [
    "grad_parameters(train_img[2],train_lab[2],init_parameters())"
   ]
  },
  {
   "cell_type": "code",
   "execution_count": 599,
   "metadata": {},
   "outputs": [
    {
     "name": "stdout",
     "output_type": "stream",
     "text": [
      "-2.14967050861381e-08\n",
      "-6.228289615994864e-08\n",
      "6.500050608870822e-08\n",
      "-2.2246578045004295e-08\n",
      "-3.231773940820526e-08\n",
      "-8.296095772158951e-10\n",
      "-2.1603580806217604e-08\n",
      "-1.2701196589262609e-08\n",
      "-6.673975811236077e-09\n",
      "-1.527530577721814e-08\n"
     ]
    }
   ],
   "source": [
    "# b1\n",
    "h = 1e-6\n",
    "for i in range(10):\n",
    "    img_i = np.random.randint(train_num)\n",
    "    test_parameters = init_parameters()\n",
    "    derivative = grad_parameters(train_img[img_i],train_lab[img_i],test_parameters)['b1']\n",
    "    '''\n",
    "    随机整数—图片序号\n",
    "    随机—初始参数\n",
    "    严格导数\n",
    "    \n",
    "    Random integer - picture number\n",
    "    Randomness - initial parameter\n",
    "    Strict derivative\n",
    "    '''\n",
    "    \n",
    "    value1 = sqr_loss(train_img[img_i],train_lab[img_i],test_parameters)\n",
    "    test_parameters[1]['b'][i]+=h\n",
    "    value2 = sqr_loss(train_img[img_i],train_lab[img_i],test_parameters)\n",
    "    print (derivative[i] - (value2-value1)/h)    # (value2-value1)/h   get Approximate derivative (近似导数)\n",
    "    \n",
    "    \n",
    "    "
   ]
  },
  {
   "cell_type": "code",
   "execution_count": 600,
   "metadata": {},
   "outputs": [
    {
     "data": {
      "text/plain": [
       "4.23453478393121e-08"
      ]
     },
     "execution_count": 600,
     "metadata": {},
     "output_type": "execute_result"
    }
   ],
   "source": [
    "# w\n",
    "h=1e-6\n",
    "grad_list=[]\n",
    "for i in range(784):\n",
    "    for j in range(10):\n",
    "        img_i = np.random.randint(train_num)\n",
    "        test_parameters = init_parameters()\n",
    "        derivative = grad_parameters(train_img[img_i],train_lab[img_i],test_parameters)['w1']\n",
    "        \n",
    "        value1 = sqr_loss(train_img[img_i],train_lab[img_i],test_parameters)\n",
    "        test_parameters[1]['w'][i][j]+=h\n",
    "        value2 = sqr_loss(train_img[img_i],train_lab[img_i],test_parameters)\n",
    "        \n",
    "        #print (derivative[i][j] - (value2-value1)/h)\n",
    "        grad_list.append(derivative[i][j]-(value2-value1)/h)\n",
    "np.abs(grad_list).max()"
   ]
  },
  {
   "cell_type": "code",
   "execution_count": 601,
   "metadata": {},
   "outputs": [
    {
     "data": {
      "text/plain": [
       "7.064576350995777e-09"
      ]
     },
     "execution_count": 601,
     "metadata": {},
     "output_type": "execute_result"
    }
   ],
   "source": [
    "# b0\n",
    "h=1e-6\n",
    "grad_list=[]\n",
    "for i in range(784):\n",
    "    img_i = np.random.randint(train_num)\n",
    "    test_parameters = init_parameters()\n",
    "    derivative = grad_parameters(train_img[img_i],train_lab[img_i],test_parameters)['b0']\n",
    "\n",
    "    value1 = sqr_loss(train_img[img_i],train_lab[img_i],test_parameters)\n",
    "    test_parameters[0]['b'][i]+=h\n",
    "    value2 = sqr_loss(train_img[img_i],train_lab[img_i],test_parameters)\n",
    "\n",
    "    #print (derivative[i][j] - (value2-value1)/h)\n",
    "    grad_list.append(derivative[i]-(value2-value1)/h)\n",
    "np.abs(grad_list).max()"
   ]
  },
  {
   "cell_type": "code",
   "execution_count": 602,
   "metadata": {},
   "outputs": [],
   "source": [
    "# Accuracy of judgment(判断精确度)\n",
    "def valid_loss(parameters):\n",
    "    loss_accu = 0\n",
    "    for img_i in range(valid_num):\n",
    "        loss_accu += sqr_loss(valid_img[img_i],valid_lab[img_i],parameters)\n",
    "    return loss_accu/(valid_num/10000)\n",
    "\n",
    "def valid_accuracy(parameters):\n",
    "    correct = [predict(valid_img[img_i],parameters).argmax() == valid_lab[img_i] for img_i in range(valid_num)]\n",
    "    return correct.count(True)/len(correct)\n",
    "    \n",
    "def train_loss(parameters):\n",
    "    loss_accu = 0\n",
    "    for img_i in range(train_num):\n",
    "        loss_accu += sqr_loss(train_img[img_i],train_lab[img_i],parameters)\n",
    "    return loss_accu/(train_num/10000)\n",
    "\n",
    "def train_accuracy(parameters):\n",
    "    correct = [predict(train_img[img_i],parameters).argmax() == train_lab[img_i] for img_i in range(train_num)]\n",
    "    return correct.count(True)/len(correct)"
   ]
  },
  {
   "cell_type": "code",
   "execution_count": 603,
   "metadata": {},
   "outputs": [
    {
     "data": {
      "text/plain": [
       "9252.681288659314"
      ]
     },
     "execution_count": 603,
     "metadata": {},
     "output_type": "execute_result"
    }
   ],
   "source": [
    "valid_loss(parameters)"
   ]
  },
  {
   "cell_type": "code",
   "execution_count": 616,
   "metadata": {},
   "outputs": [
    {
     "data": {
      "text/plain": [
       "0.1022"
      ]
     },
     "execution_count": 616,
     "metadata": {},
     "output_type": "execute_result"
    }
   ],
   "source": [
    "valid_accuracy(init_parameters())"
   ]
  },
  {
   "cell_type": "code",
   "execution_count": 617,
   "metadata": {},
   "outputs": [
    {
     "data": {
      "text/plain": [
       "2770.1827199163827"
      ]
     },
     "execution_count": 617,
     "metadata": {},
     "output_type": "execute_result"
    }
   ],
   "source": [
    "train_loss(parameters)"
   ]
  },
  {
   "cell_type": "code",
   "execution_count": 618,
   "metadata": {},
   "outputs": [
    {
     "data": {
      "text/plain": [
       "0.09116"
      ]
     },
     "execution_count": 618,
     "metadata": {},
     "output_type": "execute_result"
    }
   ],
   "source": [
    "train_accuracy(init_parameters())"
   ]
  },
  {
   "cell_type": "code",
   "execution_count": 605,
   "metadata": {},
   "outputs": [],
   "source": [
    "batch_size=100\n",
    "def train_batch(current_batch,parameters):\n",
    "    grad_accu=grad_parameters(train_img[current_batch * batch_size + 0],train_lab[current_batch * batch_size + 0],parameters)\n",
    "    for img_i in range(1,batch_size):\n",
    "        grad_tmp=grad_parameters(train_img[current_batch * batch_size + img_i],train_lab[current_batch * batch_size + img_i],parameters)\n",
    "        for key in grad_accu.keys():\n",
    "            grad_accu[key] += grad_tmp[key]\n",
    "    \n",
    "    for key in grad_accu.keys():\n",
    "        grad_accu[key] /= batch_size\n",
    "\n",
    "    return grad_accu\n",
    "# 100为一组,100张图片的平均0"
   ]
  },
  {
   "cell_type": "code",
   "execution_count": 606,
   "metadata": {},
   "outputs": [
    {
     "data": {
      "text/plain": [
       "{'w1': array([[0., 0., 0., ..., 0., 0., 0.],\n",
       "        [0., 0., 0., ..., 0., 0., 0.],\n",
       "        [0., 0., 0., ..., 0., 0., 0.],\n",
       "        ...,\n",
       "        [0., 0., 0., ..., 0., 0., 0.],\n",
       "        [0., 0., 0., ..., 0., 0., 0.],\n",
       "        [0., 0., 0., ..., 0., 0., 0.]]),\n",
       " 'b1': array([-0.00591166, -0.00381056,  0.00140106, -0.00563384, -0.00290027,\n",
       "         0.0015815 ,  0.02630939, -0.00379867, -0.001781  , -0.00545594]),\n",
       " 'b0': array([-1.54046483e-03, -4.48448500e-04,  1.48369717e-03, -3.18201336e-03,\n",
       "         8.56166686e-04,  1.02719878e-03,  1.43684636e-03, -6.13806755e-04,\n",
       "        -2.41466273e-03, -9.25935021e-04,  9.03550333e-04, -1.73079831e-03,\n",
       "        -2.12552024e-03,  1.49486683e-03, -1.27634555e-03, -8.76234325e-04,\n",
       "        -2.12612563e-03,  1.54050210e-03,  4.64791093e-04,  3.88446607e-04,\n",
       "        -3.18237612e-03,  2.07021562e-03,  2.37476070e-03, -1.81284937e-03,\n",
       "         1.54155510e-03, -7.09335710e-04,  6.45688523e-04, -2.61148863e-03,\n",
       "         1.01931511e-03,  2.20000339e-03,  2.06539986e-03, -2.07114159e-03,\n",
       "        -1.00446718e-03,  4.55865467e-04, -9.17491258e-05,  2.05096949e-03,\n",
       "        -1.09894125e-03,  1.32349936e-03, -1.43037497e-03,  2.12029427e-03,\n",
       "        -2.83182324e-03, -3.07258760e-03, -2.58624667e-04, -1.25207627e-03,\n",
       "        -4.26875402e-04,  1.36865794e-04, -1.83458511e-03,  2.10446418e-03,\n",
       "        -1.48353291e-03, -3.06951508e-03, -8.15175878e-04, -1.34076907e-03,\n",
       "         2.34602928e-03,  5.75156101e-04, -3.11939383e-03, -1.57709513e-03,\n",
       "         4.75724415e-04, -1.22278263e-03,  2.46387627e-03,  1.54007266e-03,\n",
       "        -2.22574378e-04, -1.37220184e-03, -5.22150726e-04, -2.05988490e-04,\n",
       "         2.24391385e-04, -1.38267790e-04, -1.73575850e-03,  1.92912203e-03,\n",
       "         1.22298639e-03, -1.43777850e-04, -4.00199516e-04,  1.05389214e-03,\n",
       "        -5.89596159e-04, -2.11306259e-03,  3.45379060e-03,  2.34306512e-03,\n",
       "        -9.09464590e-04, -7.43596778e-04,  1.24963353e-03, -2.55740496e-04,\n",
       "        -1.17491417e-03,  2.93627392e-03, -8.72756360e-04, -1.79618534e-03,\n",
       "        -2.04189990e-03, -2.01442079e-03, -1.83106526e-03,  3.21392886e-04,\n",
       "         1.25010791e-04, -8.60987200e-04,  1.60854845e-03, -1.04595670e-03,\n",
       "         2.17652301e-03, -2.29726665e-03,  1.23700486e-03,  3.32662234e-05,\n",
       "        -2.55572315e-03, -2.18409965e-03, -1.99728483e-03,  1.29228204e-03,\n",
       "        -4.84744517e-04, -2.57296622e-03,  3.41164325e-03,  6.21081802e-04,\n",
       "         8.74814881e-04,  2.66503851e-03,  1.65261501e-04, -2.69514121e-05,\n",
       "        -1.22243713e-03, -1.95732156e-03,  1.65190693e-03, -2.23041305e-03,\n",
       "        -3.43480754e-04,  9.81194009e-04,  7.50466027e-04,  5.22556291e-04,\n",
       "         1.33601394e-04,  2.99822652e-03,  3.79696358e-04,  5.72834983e-04,\n",
       "         4.74903369e-04, -2.68999637e-04, -1.79553456e-03,  4.47041041e-05,\n",
       "        -2.84449821e-04, -4.84197525e-05,  9.59883044e-04, -2.98279601e-03,\n",
       "         1.06068723e-03, -1.70147799e-03, -2.02120548e-03,  3.60459856e-04,\n",
       "         1.56261860e-03, -1.12023759e-03, -3.10036191e-03, -3.69333888e-04,\n",
       "         2.63377277e-04,  1.45362704e-03,  1.05527886e-03,  1.55881331e-04,\n",
       "        -1.28546580e-03,  1.63936571e-03, -8.69337171e-04, -2.23871769e-04,\n",
       "        -1.22481142e-03,  4.68909833e-04,  6.15250514e-06,  1.69449525e-03,\n",
       "         1.21086664e-03,  4.31751821e-04,  8.35212427e-04,  8.24953979e-04,\n",
       "        -1.29310550e-04,  1.26374948e-03, -1.31708151e-03,  1.93931356e-03,\n",
       "        -1.13197899e-03, -1.72676372e-03,  6.08656494e-05, -1.92766486e-05,\n",
       "        -6.75417072e-05,  1.06009225e-03, -1.15045683e-03, -2.53823817e-03,\n",
       "         6.63870907e-04,  7.89072205e-05,  1.06336193e-03, -5.40324572e-04,\n",
       "         2.90419954e-04,  1.96796389e-03,  1.61130205e-03, -6.82445244e-04,\n",
       "         6.82564181e-04, -1.39969513e-04, -1.20899942e-03,  6.31735180e-04,\n",
       "        -2.09384358e-03,  1.54491660e-03,  9.22081466e-04, -1.28357101e-04,\n",
       "        -2.27724949e-04,  3.20717120e-04,  5.97085393e-04,  4.94108364e-04,\n",
       "        -9.90008402e-04,  3.76970855e-04, -6.25620657e-04,  5.63153592e-04,\n",
       "         7.12616583e-04,  3.02053287e-03, -8.44170324e-04, -1.65942523e-03,\n",
       "         1.44872448e-03, -7.74930047e-04, -8.13880893e-04,  1.78440194e-03,\n",
       "         1.19107285e-03, -1.46319624e-03, -1.27682458e-03,  1.54192953e-03,\n",
       "        -4.54240913e-04,  1.40893446e-03,  7.66604743e-04,  7.02365570e-04,\n",
       "         3.89476090e-04,  9.10928888e-04, -1.24789362e-03,  4.45139428e-04,\n",
       "         1.48084065e-04,  2.61509690e-03, -6.36131731e-04,  6.27616663e-04,\n",
       "         1.03623354e-03,  7.39356868e-04,  2.99832490e-04, -6.92193167e-04,\n",
       "         1.09394928e-04,  6.00756932e-05, -1.74519008e-03, -2.53531374e-03,\n",
       "        -6.85953851e-04, -1.46630308e-03, -1.35283727e-03,  8.17689921e-04,\n",
       "        -3.03364835e-03, -1.46892629e-03,  6.87241125e-04,  2.04378433e-03,\n",
       "         1.50160003e-04, -3.29099557e-04, -1.01469389e-03,  2.04573395e-04,\n",
       "         3.13576515e-04,  1.45485541e-03, -4.56775641e-07,  9.29032154e-04,\n",
       "        -1.18066056e-03, -4.89240064e-07,  4.69454295e-04, -5.20724497e-04,\n",
       "         3.51839698e-04, -9.51777328e-04, -8.30317647e-04,  5.18367156e-04,\n",
       "        -9.60608423e-04, -7.18801366e-04, -1.28567172e-03, -9.18219625e-04,\n",
       "         2.11557666e-03, -1.99464131e-03,  1.55950433e-03,  1.71343873e-03,\n",
       "        -1.13305678e-03, -2.27945681e-03, -5.19808910e-04, -2.75978085e-03,\n",
       "        -5.25814001e-04,  1.56355522e-03, -9.09479598e-04,  9.29928313e-04,\n",
       "         1.09886698e-03,  1.54456580e-03, -2.42367368e-04,  1.74781884e-04,\n",
       "         1.10167862e-04,  8.76858210e-04,  9.27249526e-05,  8.03996071e-04,\n",
       "        -6.28277683e-04, -6.58413400e-05,  6.08411910e-04, -5.80269226e-04,\n",
       "        -2.10819283e-04,  4.17515873e-04,  1.03246447e-03, -5.67529212e-04,\n",
       "        -5.65703105e-04, -5.46258503e-04, -1.80230876e-03,  1.11110104e-03,\n",
       "        -7.80808756e-04, -2.13213598e-03,  8.74808718e-04,  8.68321989e-04,\n",
       "         1.97802042e-03,  3.34034621e-04, -1.12006827e-03, -7.03893182e-04,\n",
       "         1.50562880e-03, -1.81743364e-03,  2.37853442e-05, -1.64474666e-03,\n",
       "        -6.83428901e-04,  1.34564051e-03,  3.09357938e-04,  1.47386409e-03,\n",
       "        -1.12017529e-03, -8.24278530e-04,  3.10824320e-04,  1.06853253e-03,\n",
       "         4.68646729e-04,  9.72902936e-04, -5.56023325e-05, -6.25839062e-04,\n",
       "        -1.57708014e-03,  8.73510706e-04, -1.41605386e-03, -3.62176235e-04,\n",
       "        -1.96579956e-04,  9.08786408e-04, -1.21014367e-03,  2.79410019e-03,\n",
       "        -3.07802931e-04, -2.56624295e-03,  5.67434145e-04, -3.08752331e-04,\n",
       "        -1.75420597e-03, -1.55709726e-03,  1.17755717e-03, -8.36690190e-04,\n",
       "         1.45306299e-03, -1.04037450e-04, -4.78758253e-04,  6.53578766e-04,\n",
       "         9.98968705e-04, -1.24057334e-03,  6.50716124e-05, -3.58390860e-04,\n",
       "         9.05342599e-04,  2.84095828e-04, -2.26911502e-03, -1.00652883e-03,\n",
       "        -6.68228258e-04, -2.50368430e-03,  1.43248922e-03, -6.29509494e-04,\n",
       "         1.18764376e-03,  4.89505435e-05,  6.37162721e-04,  6.47786464e-04,\n",
       "        -7.40211276e-05,  1.38712613e-04, -1.57875661e-03, -1.70553935e-03,\n",
       "         4.09830778e-04,  3.75858619e-04, -3.00869797e-04,  1.29268563e-03,\n",
       "        -3.06984226e-04,  1.08443557e-03,  1.13124044e-03, -1.68922579e-03,\n",
       "        -9.18349494e-05,  5.89077748e-05,  8.59685047e-04,  2.55689011e-03,\n",
       "        -9.73457644e-04,  2.07259251e-03,  4.63713597e-04,  2.46562991e-03,\n",
       "        -4.31010670e-04,  2.79345897e-03,  2.93144819e-03, -5.45410624e-04,\n",
       "         9.95689820e-04,  1.30096360e-03, -7.43789285e-05,  9.55296117e-04,\n",
       "         1.02375359e-03, -1.40631532e-03,  2.22390745e-04, -1.36542600e-03,\n",
       "        -1.09143244e-04,  3.19090541e-04,  1.32020100e-03,  8.97587536e-04,\n",
       "         2.37148328e-03,  1.63289407e-03, -7.72674041e-04,  1.15080054e-03,\n",
       "         6.20220505e-05, -8.34149268e-05, -2.79934633e-04, -5.79134974e-05,\n",
       "        -1.98044863e-04, -2.47683140e-03,  2.44769562e-06, -2.01876049e-03,\n",
       "        -1.32657048e-03, -1.28999376e-03,  1.00008679e-03,  1.91218459e-03,\n",
       "        -6.67629282e-04, -1.96405118e-03, -1.27842076e-03,  3.77897179e-04,\n",
       "        -2.59226704e-03, -1.73374698e-03,  5.47325806e-04,  5.66635881e-04,\n",
       "         9.63563376e-04,  4.10279150e-04,  2.72287844e-03, -5.21635941e-04,\n",
       "         1.36987698e-03,  1.89497143e-04, -1.52239283e-04,  1.81315949e-03,\n",
       "         1.07176503e-03,  1.16028800e-03,  1.95716013e-03, -9.62906824e-04,\n",
       "         8.99120208e-04, -2.41695304e-03,  1.45637780e-04, -1.89671885e-03,\n",
       "        -1.58483701e-03, -1.86560833e-03,  1.29597749e-03,  1.97435733e-03,\n",
       "        -1.97096874e-03,  1.91630213e-03, -2.33752268e-03,  1.11054384e-03,\n",
       "         1.72422170e-03,  1.56608575e-03,  2.05297231e-03,  1.33515639e-03,\n",
       "        -8.78868210e-04, -1.65210013e-04,  4.02925588e-04,  1.77253616e-04,\n",
       "         8.68499454e-04, -6.40158981e-04, -2.31317923e-04, -1.30966282e-04,\n",
       "        -1.38216411e-05,  6.12202014e-05, -6.67375057e-04,  2.92857526e-03,\n",
       "         2.05544022e-03,  5.54240021e-04, -6.12623372e-04, -1.29446840e-03,\n",
       "        -4.43416619e-04, -3.90080064e-04, -1.64876532e-03, -2.34578008e-03,\n",
       "         2.59717954e-04,  7.27966220e-04,  1.19749055e-03,  1.07292230e-03,\n",
       "         4.26711323e-04, -5.04192546e-04, -1.62519434e-03, -7.99788094e-04,\n",
       "        -8.13958675e-05, -2.02375902e-03, -1.16903619e-04,  1.88350632e-03,\n",
       "         1.91407490e-03, -1.19209973e-03, -9.34070859e-05,  8.78521703e-04,\n",
       "        -5.24961248e-04,  3.27511619e-04, -1.68681961e-03, -1.09816561e-03,\n",
       "        -1.40051887e-03,  6.42545324e-04, -7.14733930e-04, -1.10619126e-03,\n",
       "         1.45314655e-04, -1.59856179e-03, -1.26108714e-04,  2.85294481e-04,\n",
       "         1.09240688e-03,  1.59999746e-03,  1.62824976e-03, -9.64429152e-04,\n",
       "        -1.33464893e-03,  2.43051384e-03,  2.08998253e-03,  2.13909527e-03,\n",
       "        -1.83804075e-03, -8.22971693e-04,  7.62500782e-04,  1.31564794e-03,\n",
       "         7.30505595e-04,  3.58954890e-03, -5.38065085e-04,  1.52027295e-03,\n",
       "         7.25168348e-04, -8.73209738e-04, -5.21075600e-04,  2.05804212e-03,\n",
       "        -1.44386119e-03, -1.98574674e-03,  2.11117406e-03, -2.43339955e-03,\n",
       "         1.12269337e-03,  2.02852068e-03, -6.66011434e-04, -1.18430128e-03,\n",
       "        -1.33892849e-03, -7.39135207e-04, -5.81903376e-04, -8.94630130e-04,\n",
       "         2.98943066e-04, -7.13607702e-04, -2.01013602e-04, -1.69881921e-04,\n",
       "         3.95861943e-04, -2.63496395e-03, -4.00139173e-04, -8.51194397e-04,\n",
       "        -7.72956820e-05, -1.61702862e-03, -2.25966889e-03,  6.64783588e-04,\n",
       "         1.73442188e-03,  9.44479016e-04,  1.38252185e-03, -6.14596565e-04,\n",
       "        -1.01072538e-03,  9.25512750e-04,  2.53651831e-03,  7.06165118e-04,\n",
       "         1.83799956e-04, -1.92532786e-03, -8.17841720e-05,  2.56439048e-03,\n",
       "        -5.81576997e-06, -3.85761878e-04,  1.45044909e-03,  1.39951174e-03,\n",
       "         2.32306552e-03, -2.23298656e-04, -1.23183132e-03,  1.11144038e-04,\n",
       "         1.48151023e-03, -4.53579730e-04,  1.88060548e-03,  2.27510176e-03,\n",
       "        -8.13779861e-04,  2.29882349e-03,  5.78994676e-04, -1.09218911e-03,\n",
       "        -9.90409675e-04, -9.13263958e-04, -1.62657415e-03,  2.38010402e-03,\n",
       "         8.14584276e-04,  9.48189484e-04,  4.99412406e-05,  4.73392943e-05,\n",
       "        -1.56964553e-03,  5.11759897e-04,  2.03426136e-03,  1.70862973e-03,\n",
       "        -1.21976599e-03,  1.43570613e-04,  2.27656191e-03,  2.24179037e-03,\n",
       "         1.16325429e-04,  2.79481683e-03, -1.84672377e-03, -1.36145859e-03,\n",
       "         1.70171482e-03, -1.27473182e-03,  1.73813183e-03,  8.28392691e-05,\n",
       "         9.08601011e-04,  1.40864824e-03,  9.36527085e-04, -2.31879207e-03,\n",
       "         1.58974339e-03,  2.34180253e-05, -5.38376308e-05, -9.33137518e-04,\n",
       "         1.09292014e-03,  1.17602043e-03,  2.84240571e-05, -1.38269528e-03,\n",
       "         1.51677169e-03,  1.25027945e-03, -1.36550316e-03,  2.18975912e-03,\n",
       "        -1.15609336e-03, -1.51169019e-03,  1.90555894e-04, -1.82979630e-03,\n",
       "        -1.47479640e-03,  1.62381368e-03, -8.19503621e-04,  3.86534839e-04,\n",
       "         2.13515879e-05,  6.75118591e-04,  2.00494087e-03,  2.03475261e-03,\n",
       "         1.01318559e-04,  8.26398117e-04, -1.75737830e-04,  2.40007073e-03,\n",
       "        -9.01520513e-05,  1.07260043e-03,  5.70016271e-04,  1.60924931e-03,\n",
       "        -4.30658723e-04, -7.38321737e-04,  1.91835140e-03, -6.73987274e-04,\n",
       "        -1.14604859e-03,  1.77750886e-03,  1.95562172e-03, -4.75197721e-04,\n",
       "         9.03153285e-04, -2.07110003e-04, -1.50287193e-03,  1.82243232e-03,\n",
       "         3.27059972e-03, -1.48520220e-03,  6.55058480e-04, -1.01573735e-03,\n",
       "        -1.89203464e-04, -1.22695815e-03,  2.85855729e-04, -1.16571998e-04,\n",
       "        -3.56867082e-04, -5.62190418e-04,  2.76079416e-04, -7.62999330e-04,\n",
       "         1.07727102e-03,  8.43760693e-04, -1.19039947e-03, -3.22237770e-04,\n",
       "        -1.79483755e-03, -2.22142935e-03, -1.74487421e-03, -2.53238170e-04,\n",
       "        -1.82680851e-03,  2.19019421e-03,  9.67966166e-05, -2.11650300e-03,\n",
       "         2.16567106e-05,  9.26050757e-04,  1.08823964e-03,  2.55504040e-03,\n",
       "        -1.85282540e-03,  1.72287581e-03,  1.26006883e-03, -1.17619836e-03,\n",
       "        -3.36209479e-04,  1.37354862e-03, -4.47367376e-05,  9.36028912e-05,\n",
       "        -3.20896336e-04,  5.54905721e-04, -1.54626450e-03, -1.23642555e-03,\n",
       "        -1.68413686e-03, -1.87152253e-04,  6.17159898e-04,  1.03012664e-03,\n",
       "        -1.60823031e-03, -1.37148744e-04, -9.36952909e-04,  1.94653064e-03,\n",
       "         2.71075999e-03,  6.26778055e-04, -1.40580954e-04, -1.64506827e-03,\n",
       "         2.66581421e-03,  1.13936635e-03,  1.51317058e-03,  1.84606990e-03,\n",
       "         9.95964827e-04, -1.64530101e-03,  2.08076705e-03,  8.30205887e-04,\n",
       "         2.56837459e-04,  1.67310894e-03, -4.50317504e-05, -6.87906135e-04,\n",
       "         1.57451518e-03,  1.67371745e-04, -3.74895264e-04,  7.46295911e-04,\n",
       "         1.21795340e-03,  1.11181581e-03,  2.13405088e-03,  1.18847371e-04,\n",
       "         2.18396623e-03, -4.18744829e-04,  7.82129276e-04, -2.28441479e-03,\n",
       "         8.31195116e-04, -1.42556746e-03,  2.40253529e-03,  1.27098357e-03,\n",
       "        -7.46509268e-04, -3.51200190e-04,  1.47381095e-03, -1.41768141e-03,\n",
       "        -4.89734052e-04,  5.06263573e-04, -3.49692514e-04,  7.48188489e-04,\n",
       "         2.51287293e-03, -1.16083751e-03, -2.06614442e-03,  5.96578331e-04,\n",
       "        -1.01401386e-03,  5.06761468e-04, -8.05751772e-04, -2.09523816e-03,\n",
       "         1.67184683e-03,  8.10820063e-04,  5.53942995e-04, -1.63650855e-03,\n",
       "        -2.42194149e-03, -2.50382600e-03,  2.35170947e-03, -9.36164999e-04,\n",
       "         3.06526822e-04, -2.09364387e-03, -3.12099671e-04, -9.87990172e-04,\n",
       "         1.44446391e-03,  5.18137312e-04, -1.19511067e-03,  1.04041345e-03,\n",
       "        -1.77818835e-03, -1.57128027e-03, -5.56776023e-04, -2.04821265e-04,\n",
       "         2.39166970e-04,  1.24430376e-03,  1.83599530e-03,  3.12297527e-04,\n",
       "        -2.53785107e-03,  1.59021599e-04, -1.89622652e-04, -1.74889459e-03,\n",
       "         1.71057369e-03, -7.97734275e-04,  3.34128111e-03,  2.70918139e-04,\n",
       "        -2.93477510e-04, -9.30311437e-04,  1.73107369e-03, -2.76705727e-03,\n",
       "         2.70143098e-03,  5.72172232e-04,  1.14317930e-03,  9.01610834e-05,\n",
       "        -1.89247803e-03,  1.74296691e-03,  1.92449265e-03,  1.28073957e-04,\n",
       "        -3.81433942e-03,  1.51912282e-03, -2.71953120e-04, -1.28265312e-04,\n",
       "         6.37374958e-04,  6.74699284e-04, -1.08093063e-03, -6.67077831e-04,\n",
       "        -1.40763781e-03,  1.53813074e-03, -2.73083555e-03,  1.30283195e-03,\n",
       "         2.61704926e-03, -1.13042915e-03,  3.87195626e-04,  1.16559225e-04,\n",
       "        -1.45370926e-03, -9.96475368e-04, -1.09349258e-04,  5.24866216e-04,\n",
       "         1.31792101e-03,  1.52913979e-03, -1.47281679e-03,  6.32478539e-04])}"
      ]
     },
     "execution_count": 606,
     "metadata": {},
     "output_type": "execute_result"
    }
   ],
   "source": [
    "train_batch(0,parameters)"
   ]
  },
  {
   "cell_type": "code",
   "execution_count": 607,
   "metadata": {},
   "outputs": [],
   "source": [
    "import copy"
   ]
  },
  {
   "cell_type": "code",
   "execution_count": 608,
   "metadata": {},
   "outputs": [],
   "source": [
    "def combine_parameters(parameters,grad,learn_rate):\n",
    "    parameters_tmp = copy.deepcopy(parameters)\n",
    "    parameters_tmp[0]['b'] -= learn_rate * grad['b0']\n",
    "    parameters_tmp[1]['b'] -= learn_rate * grad['b1']\n",
    "    parameters_tmp[1]['w'] -= learn_rate * grad['w1']\n",
    "    return parameters_tmp\n",
    "# Pi -> Pi - k▽L"
   ]
  },
  {
   "cell_type": "code",
   "execution_count": 609,
   "metadata": {},
   "outputs": [
    {
     "data": {
      "text/plain": [
       "[{'b': array([ 3.00053447e-03,  4.80875454e-04, -1.49626143e-03,  3.87685086e-03,\n",
       "          3.58765528e-04, -2.32177555e-03, -1.44921104e-03,  2.25676546e-04,\n",
       "          1.86973756e-03, -5.62334688e-04, -1.68468599e-03,  2.65975579e-03,\n",
       "          2.31272173e-03, -3.29871239e-03,  2.74545652e-03,  1.57856298e-03,\n",
       "          2.00891468e-03, -3.83469794e-04,  3.58619922e-04,  5.45113106e-04,\n",
       "          2.73216104e-03, -1.61947881e-03, -2.46298832e-03,  3.05867145e-03,\n",
       "         -2.57957646e-03,  1.41125970e-03, -9.91439368e-04,  1.38954657e-03,\n",
       "         -5.81730913e-04, -2.59351636e-03, -3.25099015e-03,  2.69202777e-03,\n",
       "          2.88743820e-03,  2.82695013e-04, -1.10379846e-03, -2.79737844e-03,\n",
       "         -2.22844202e-04, -2.37746928e-03,  1.65705025e-03, -2.64658220e-03,\n",
       "          3.93971044e-03,  4.22724502e-03, -3.49100690e-04,  5.86265476e-04,\n",
       "          8.43677252e-04,  1.60668302e-03,  2.73927837e-03, -7.35733073e-04,\n",
       "          2.53606165e-03,  4.51754240e-03,  4.75358644e-04,  1.43941408e-03,\n",
       "         -3.51253194e-03, -9.51472227e-04,  4.13342882e-03,  2.89018645e-03,\n",
       "         -8.42873237e-04,  1.39833515e-03, -3.34213010e-03, -1.12683120e-03,\n",
       "         -3.47469432e-04,  2.13563099e-03, -1.55563679e-04, -1.20992742e-03,\n",
       "          4.78765046e-04,  1.85468469e-03,  2.26357833e-03, -1.04558090e-03,\n",
       "         -1.08632213e-03,  8.50672123e-04,  8.56606423e-05, -1.39341939e-03,\n",
       "         -4.91796200e-04,  3.00854021e-03, -2.34001933e-03, -2.73974188e-03,\n",
       "         -3.22805924e-04,  1.95419750e-03, -3.21377194e-03, -2.30577288e-04,\n",
       "          1.34769984e-03, -3.06062290e-03,  8.70526491e-04,  3.22787868e-03,\n",
       "          2.99392544e-03,  1.94608180e-03,  2.68281865e-03, -2.21774670e-03,\n",
       "         -7.45248522e-04,  1.29174724e-03, -1.63390291e-03,  7.62145610e-04,\n",
       "         -1.82303388e-03,  4.31843512e-03, -2.42943267e-04, -1.51920040e-03,\n",
       "          2.06481212e-03,  3.34701197e-03,  2.25343235e-03, -2.97708528e-03,\n",
       "          4.07372552e-04,  2.97298442e-03, -4.65375640e-03, -1.98499467e-03,\n",
       "         -1.16072529e-03, -1.84210625e-03, -1.16666453e-03,  1.54493269e-03,\n",
       "          1.31256054e-03,  3.31789389e-03, -2.19993192e-03,  2.15627019e-03,\n",
       "         -9.60707073e-05, -2.25848908e-03, -1.99962338e-03, -1.76502524e-03,\n",
       "         -8.48475499e-04, -2.58413310e-03, -9.07143587e-04, -1.48256290e-03,\n",
       "         -9.01054882e-04,  6.57997935e-04,  1.33618472e-03, -8.44801444e-04,\n",
       "          2.13323410e-03, -1.63050370e-03, -3.39320496e-03,  1.69697954e-03,\n",
       "         -2.26578200e-04,  6.25562055e-04,  1.68875899e-03, -2.96363195e-04,\n",
       "         -6.31291191e-04,  1.66118718e-03,  1.43814295e-03, -1.42655000e-03,\n",
       "         -1.58610496e-04, -2.78392514e-03, -1.04951303e-03,  2.55322387e-04,\n",
       "          2.99875027e-03, -1.74729240e-03,  2.36530728e-03,  1.27254070e-03,\n",
       "          1.60611711e-03, -1.78889081e-03, -8.57505098e-04, -1.41690021e-03,\n",
       "         -2.40330818e-03,  1.53296801e-03, -8.45664084e-04, -4.96185295e-04,\n",
       "          1.90864760e-03, -2.82852026e-03,  5.80454364e-04, -3.19532328e-03,\n",
       "          2.04502679e-03,  1.52669005e-03, -1.71578725e-03,  5.49478035e-04,\n",
       "         -2.56549063e-04, -1.39062708e-03,  1.24446126e-03,  3.14200135e-03,\n",
       "          4.59488495e-04,  3.38345713e-04, -2.64107179e-03, -7.75347462e-04,\n",
       "         -5.79676647e-04, -1.19264422e-03, -7.15262835e-04,  5.54131003e-04,\n",
       "          6.62051498e-04,  1.76800505e-03,  2.01248441e-03, -1.79793758e-03,\n",
       "          1.25806924e-03, -2.66227665e-03, -1.64607010e-03, -4.28207145e-04,\n",
       "         -1.84461361e-04,  1.60175066e-04,  6.87258888e-04, -6.67666265e-04,\n",
       "          1.22351465e-03,  5.61278973e-04, -5.70451534e-04, -9.40106858e-04,\n",
       "          4.00930842e-04, -3.27690233e-03,  8.50401772e-04,  2.45045537e-03,\n",
       "         -2.88087416e-03,  2.12295035e-03,  1.87348820e-03, -2.45066499e-03,\n",
       "         -1.90709449e-03,  3.50018942e-03,  1.47070600e-04, -1.28841036e-03,\n",
       "         -2.09004686e-04, -2.16535339e-03, -4.81031960e-04, -8.53902711e-04,\n",
       "          1.80875303e-03, -6.89934461e-04,  7.78210692e-04,  5.62726731e-04,\n",
       "         -6.37661032e-04, -2.70456361e-03,  1.34569084e-03, -6.59225561e-04,\n",
       "         -9.21933517e-04, -1.99268286e-04,  4.81026824e-05, -3.05458011e-04,\n",
       "         -3.17311272e-04,  2.85382595e-05,  2.32210316e-03,  3.10443152e-03,\n",
       "          1.23548432e-03,  2.28414030e-03,  1.95451503e-03, -1.68715646e-03,\n",
       "          3.00497226e-03,  7.27749322e-04, -1.54438112e-03, -3.88522735e-03,\n",
       "         -5.10168958e-04,  1.67404231e-03,  1.09064671e-03,  9.30623780e-04,\n",
       "          6.87200262e-04, -1.65150312e-03,  4.91791739e-05, -3.17594903e-04,\n",
       "          1.35312667e-03, -2.81075225e-04, -5.40283428e-04,  9.29660323e-04,\n",
       "         -9.68579353e-04,  1.92744287e-03, -2.29482460e-04,  1.03504601e-04,\n",
       "          1.16406261e-03,  1.48975685e-03,  4.61938308e-04,  1.49830817e-03,\n",
       "         -2.90273255e-03,  2.36148584e-03, -7.55376408e-04, -2.48472615e-03,\n",
       "          2.30491518e-03,  2.32166137e-03, -1.81935881e-04,  1.49585266e-03,\n",
       "          7.35440571e-04, -1.72614443e-03,  3.70291280e-04, -8.77760028e-04,\n",
       "         -1.56519207e-03, -6.80910400e-04, -8.61935639e-04,  3.46772742e-04,\n",
       "         -4.76414032e-04, -5.25021895e-04, -9.97946871e-04, -4.03834576e-04,\n",
       "          4.41195870e-04,  6.04468098e-04, -5.35322697e-04,  9.98504293e-04,\n",
       "         -1.72293479e-04, -5.00604417e-04, -2.22913490e-03,  6.12098977e-04,\n",
       "         -1.02114244e-03,  2.32394766e-03,  2.97633955e-03, -8.06304558e-05,\n",
       "          1.67094035e-04,  3.10294903e-03, -2.37183517e-03,  6.54372691e-05,\n",
       "         -2.65135769e-03, -1.08840561e-03,  1.86500708e-03,  1.91677805e-03,\n",
       "         -1.43729196e-03,  1.28639986e-03, -7.00416452e-04,  7.05387231e-04,\n",
       "          7.30649802e-04, -1.88607202e-03, -1.11434177e-03, -1.88331533e-03,\n",
       "          2.61936012e-03,  1.82251411e-03, -1.72972009e-04, -1.30818224e-04,\n",
       "         -1.68103903e-03, -1.53741321e-03,  4.60160277e-04,  1.62953466e-03,\n",
       "          3.60992265e-03, -7.70963271e-04,  1.39681197e-03,  8.23692292e-04,\n",
       "          1.28840929e-03, -2.02946475e-03,  2.02383330e-03, -2.63495623e-03,\n",
       "         -4.11323173e-04,  1.39141009e-03, -2.10876860e-03,  2.50926489e-04,\n",
       "          1.92352009e-03,  7.99504477e-04, -1.19417620e-03,  9.06292956e-04,\n",
       "         -2.91061548e-03, -2.40735876e-04,  5.86294501e-05, -1.45270961e-03,\n",
       "         -1.51161377e-03,  1.23360675e-03, -1.12064277e-03, -2.28736350e-04,\n",
       "         -9.37261769e-04, -2.46550993e-03,  3.18139842e-03,  1.10489713e-03,\n",
       "          1.10136956e-03,  2.03515597e-03, -1.31574429e-03,  1.09311194e-03,\n",
       "         -7.17453916e-04,  2.90542441e-04,  3.12253657e-05, -1.29819214e-03,\n",
       "          1.29334768e-03, -5.60746735e-04,  1.38996280e-03,  1.75157272e-03,\n",
       "         -2.34709046e-03, -3.13602413e-04, -1.03193827e-03, -1.20721461e-03,\n",
       "         -6.78093973e-04, -1.02972196e-03, -2.04017908e-03,  2.63444098e-03,\n",
       "          4.64824326e-04, -4.89844146e-04, -1.24695587e-03, -3.59941114e-03,\n",
       "         -1.01157990e-04, -2.40408450e-03, -6.78967345e-04, -2.67569922e-03,\n",
       "          2.15656825e-03, -3.83232626e-03, -4.28883623e-03,  1.40094523e-03,\n",
       "         -2.37381970e-03, -1.33735987e-03,  9.15835270e-04, -1.34104146e-03,\n",
       "         -1.10999404e-03,  3.62375747e-04, -3.46288477e-04,  8.96851815e-04,\n",
       "         -6.87567606e-04,  3.91811794e-04, -2.05571240e-03, -5.28109218e-04,\n",
       "         -2.80156776e-03, -1.64235918e-03,  1.11055259e-03, -2.26743861e-03,\n",
       "         -1.49601421e-04, -1.56849589e-03,  1.60005310e-03, -1.06005815e-03,\n",
       "          1.51009880e-03,  2.61263389e-03, -5.81605588e-05,  1.48637592e-03,\n",
       "          1.07791472e-03,  1.16302632e-03,  5.25620589e-04, -1.69097917e-03,\n",
       "          1.99688496e-03,  1.10483417e-03,  6.95839062e-04, -1.43873334e-03,\n",
       "          3.62705301e-03,  1.49420440e-04, -1.01938721e-03, -1.86319780e-03,\n",
       "         -1.99106195e-04,  7.87085022e-05, -1.96014930e-03,  8.58645283e-04,\n",
       "         -1.58810369e-03, -6.80044494e-04,  1.65605948e-03, -9.38208375e-04,\n",
       "         -1.08744092e-04, -1.62347480e-03, -2.16772544e-03,  2.27431775e-03,\n",
       "         -1.29602151e-04,  2.14579950e-03, -1.61489962e-03,  1.87152177e-03,\n",
       "          3.69950440e-03,  2.53630791e-03, -2.28532171e-03, -2.77994047e-03,\n",
       "          2.07048527e-03, -1.71294193e-03,  3.76714641e-03, -3.29965336e-03,\n",
       "         -3.21402941e-03, -2.07869049e-03, -1.41226043e-03, -3.10385637e-03,\n",
       "          1.37848104e-03,  1.11287294e-03, -1.05599714e-03, -1.03345748e-03,\n",
       "         -1.23305147e-03, -6.27074807e-04,  7.96225231e-04, -3.02552452e-04,\n",
       "         -1.83427033e-05, -2.70366541e-04,  7.84304264e-04, -2.62994399e-03,\n",
       "         -3.58982589e-03,  8.88424677e-05,  1.54580509e-03,  6.00431145e-04,\n",
       "          9.13845467e-08,  2.36365011e-04,  1.96735652e-03,  2.88134274e-03,\n",
       "          2.72012359e-04,  8.03365041e-04, -1.88206380e-03, -3.35157673e-04,\n",
       "         -2.46625906e-04,  8.71983710e-04,  1.37530242e-03,  3.90735254e-04,\n",
       "         -4.12293431e-04,  3.29894127e-03, -6.93493574e-04, -2.65976505e-03,\n",
       "         -2.40944686e-03,  9.61368866e-04,  9.73967363e-04, -3.12519432e-04,\n",
       "         -1.06094210e-03, -6.96665888e-04,  7.26245981e-04,  5.35396223e-04,\n",
       "          8.91217006e-04, -1.18773628e-03, -5.62206032e-05,  2.54785514e-03,\n",
       "          2.64795686e-04,  3.07262168e-03,  6.45088906e-04, -1.81539696e-03,\n",
       "         -5.19027338e-04, -2.79710267e-03, -1.34090982e-03,  2.29632167e-03,\n",
       "          1.61243285e-03, -2.68356055e-03, -1.78482190e-03, -1.77719033e-03,\n",
       "          1.44177486e-03,  2.83625727e-05, -2.80263463e-03, -2.57088083e-03,\n",
       "         -5.43818015e-04, -5.41900667e-03,  7.26187545e-04, -2.19421343e-03,\n",
       "          9.84459445e-05,  1.74110545e-03,  7.32255014e-04, -2.81738486e-03,\n",
       "          7.92943889e-04,  1.89409531e-03, -2.40515992e-03,  2.37663476e-03,\n",
       "         -1.69962252e-03, -2.87735405e-03, -1.99716601e-04,  3.54835970e-03,\n",
       "          1.13439105e-03,  3.69071021e-04,  9.05829292e-04,  1.36674651e-03,\n",
       "         -1.50878976e-03,  1.38549278e-03,  2.01292829e-04, -3.75660636e-04,\n",
       "          1.79482326e-04,  1.77054540e-03, -4.03365513e-04,  1.79629642e-03,\n",
       "         -1.61971010e-03,  1.32920417e-03,  1.94947899e-03, -9.36684116e-04,\n",
       "         -1.89885262e-03, -1.26478287e-03, -1.81433916e-03,  1.85120328e-03,\n",
       "          1.70740573e-03, -1.15001390e-03, -2.62581730e-03, -1.96179205e-03,\n",
       "         -9.90138527e-04,  2.93147941e-03, -6.22668741e-04, -4.21376716e-03,\n",
       "         -1.33498196e-03,  5.63589367e-04, -3.86369560e-03, -1.95045335e-03,\n",
       "         -1.14275450e-03, -3.65570607e-04,  1.58233040e-03, -8.55887010e-04,\n",
       "         -2.08854096e-03,  1.36610105e-04, -3.00919234e-03, -2.43579161e-03,\n",
       "          1.75475523e-04, -3.25775337e-03,  5.22842276e-04,  1.43808760e-03,\n",
       "          1.12155863e-03,  5.67497918e-04,  1.24105060e-03, -2.16469617e-03,\n",
       "         -5.34594791e-04, -1.19149651e-03, -1.28127595e-03,  5.16987911e-04,\n",
       "          1.72807813e-03,  2.06317767e-04, -2.68304253e-03, -1.81608228e-03,\n",
       "          2.58714658e-03, -5.17302145e-04, -3.82038354e-03, -3.64149868e-03,\n",
       "         -9.71951861e-04, -1.85571529e-03,  7.10913612e-04,  2.00111911e-03,\n",
       "         -2.28040731e-03,  2.38077321e-03, -2.23455507e-03,  2.53490700e-04,\n",
       "          2.16886275e-04, -5.54553787e-04, -2.38990211e-04,  2.64118641e-03,\n",
       "         -1.56636579e-03, -8.50613025e-04, -1.51080312e-03,  3.72706469e-04,\n",
       "         -1.13652649e-03, -2.24700692e-03, -8.46731858e-04,  2.84079720e-03,\n",
       "         -2.93942591e-03, -1.63249845e-03,  1.06582326e-03, -3.93560661e-03,\n",
       "          1.56693379e-03,  6.43136602e-04, -1.14038860e-03,  1.69023482e-03,\n",
       "          2.17141578e-03, -2.24662994e-03,  3.34855227e-04, -1.68181878e-04,\n",
       "          8.69663028e-04, -3.77844441e-04, -1.98594928e-03, -1.21210192e-03,\n",
       "         -1.16447815e-03, -1.05110587e-03,  1.76230072e-03, -4.06040140e-03,\n",
       "         -9.92238227e-04, -6.58560872e-04,  1.03241887e-03, -2.59734394e-03,\n",
       "          2.09084858e-04,  7.12191286e-04, -1.38155896e-03,  7.38176469e-04,\n",
       "          2.82088262e-03, -1.56307193e-03, -2.85068762e-03,  8.29301808e-04,\n",
       "         -6.20195799e-04, -1.31856422e-04,  1.39960498e-03, -3.48349028e-04,\n",
       "         -2.42938831e-03,  1.06630819e-03, -1.19831704e-03,  1.96356295e-03,\n",
       "          5.32962691e-04,  1.84108036e-03,  5.20898725e-04,  2.19189886e-03,\n",
       "         -3.84020083e-04,  1.06985521e-03,  1.02197890e-03,  3.28966170e-03,\n",
       "         -2.38016973e-03, -1.51276040e-03,  3.58602751e-03, -1.56794007e-03,\n",
       "          3.82444882e-03,  2.68162024e-03,  2.83963117e-03,  8.77501023e-04,\n",
       "          2.66767596e-03, -1.01846060e-03, -1.06134797e-03,  1.35821917e-03,\n",
       "          1.24994123e-03, -7.78362756e-04,  1.02997298e-04, -3.67531880e-03,\n",
       "          1.95150022e-03, -1.54663894e-03, -3.31790722e-03,  4.00030907e-04,\n",
       "         -1.24728613e-03, -2.70585697e-03,  2.13956012e-04, -1.89330645e-03,\n",
       "          8.76608759e-04, -2.55945627e-03,  2.11151869e-03,  2.06792176e-03,\n",
       "          1.21963914e-03,  1.23153630e-03, -1.50985889e-03, -2.64723229e-03,\n",
       "          3.69220597e-03,  2.74311334e-04,  1.00759708e-03, -1.73137038e-03,\n",
       "         -1.63736439e-03, -1.74737285e-03,  9.30974997e-04,  2.60441362e-03,\n",
       "         -2.25598304e-03, -1.19440718e-03, -1.43427741e-03, -2.54065173e-03,\n",
       "          1.09520324e-04,  3.08027205e-03, -3.64742838e-03, -1.04001554e-03,\n",
       "          6.00046060e-04, -3.38432607e-03,  1.66361413e-04,  5.92718995e-04,\n",
       "         -9.78682460e-04,  2.14148073e-03, -1.48652183e-03, -1.79303065e-03,\n",
       "         -1.39435839e-03, -1.45096881e-03, -1.10390132e-03, -9.67650223e-04,\n",
       "         -3.21231140e-03, -1.40236530e-04,  1.77001752e-04,  1.86841417e-03,\n",
       "         -4.38693671e-04,  2.09056678e-03, -2.79923611e-03, -1.60504846e-03,\n",
       "          1.37437080e-03, -8.64988506e-04, -2.09689881e-03,  1.92368170e-03,\n",
       "          1.39709112e-03,  2.48119949e-04, -2.12937637e-04, -9.91344693e-04,\n",
       "         -2.38536783e-03,  8.50730297e-04,  3.47559811e-03, -6.33635797e-04,\n",
       "          2.57140349e-03,  2.30016256e-04,  7.90134742e-04,  2.06770597e-03,\n",
       "         -2.16550875e-03,  1.14702717e-04,  1.42488491e-04,  1.84379850e-03,\n",
       "          1.88493546e-03,  2.17445594e-03, -3.37416613e-03,  8.23108690e-04,\n",
       "         -2.69550255e-04,  2.19428459e-03,  1.81981298e-03,  4.69455847e-04,\n",
       "         -8.11746912e-04,  2.62329760e-04,  3.05428395e-04, -1.21606515e-03,\n",
       "          2.44355197e-04,  2.28257621e-03,  5.14919297e-04, -3.22600705e-04,\n",
       "          7.70328531e-04, -9.21324801e-04, -1.81593926e-03, -7.88215058e-04,\n",
       "          2.70229995e-03,  1.50325538e-03,  2.59435227e-04,  1.76808115e-04,\n",
       "         -2.32996592e-03,  4.07481211e-04, -3.63426224e-03, -1.30379025e-03,\n",
       "          1.39686112e-03,  6.03401534e-04, -1.46877575e-03,  2.68429146e-03,\n",
       "         -4.82108983e-03, -2.04893693e-03, -9.06574551e-04,  7.45112343e-04,\n",
       "          2.60790004e-03, -3.65147092e-03, -1.98472745e-03,  2.01370000e-03,\n",
       "          3.32898487e-03, -2.31089478e-03,  1.46722118e-03,  1.20927540e-03,\n",
       "         -7.88221796e-04, -4.12929047e-04,  1.83614731e-03,  2.32452146e-04,\n",
       "          2.23916196e-03, -1.92542264e-03,  2.73037366e-03,  2.58353276e-04,\n",
       "         -3.06225616e-03,  9.12880774e-04, -1.55959729e-03,  6.25199134e-04,\n",
       "          1.26262629e-03,  1.07484352e-03,  3.42360618e-04, -9.36252934e-05,\n",
       "         -1.65183618e-03, -1.86901427e-03,  2.63052068e-03,  3.24176558e-04])},\n",
       " {'b': array([ 0.00138357, -0.00232075,  0.01318417,  0.00468649,  0.00091268,\n",
       "          0.00305264, -0.0339468 ,  0.00483548, -0.00023511,  0.00844764]),\n",
       "  'w': array([[-0.04579801,  0.0003202 ,  0.0205033 , ..., -0.02530075,\n",
       "           0.06594079,  0.05026668],\n",
       "         [ 0.04626652,  0.04017386,  0.06758063, ..., -0.03102534,\n",
       "           0.05796137, -0.06859123],\n",
       "         [-0.05048607, -0.03997395,  0.00530298, ..., -0.03350683,\n",
       "          -0.00159953, -0.07172041],\n",
       "         ...,\n",
       "         [-0.06124436,  0.02776101,  0.02006765, ...,  0.01666224,\n",
       "           0.06843821,  0.07748478],\n",
       "         [-0.08682104, -0.04055785,  0.01474757, ..., -0.03146449,\n",
       "           0.04728093, -0.01494948],\n",
       "         [-0.06538068,  0.01119221,  0.07385213, ...,  0.00511759,\n",
       "          -0.03163028, -0.05583248]])}]"
      ]
     },
     "execution_count": 609,
     "metadata": {},
     "output_type": "execute_result"
    }
   ],
   "source": [
    "combine_parameters(parameters,train_batch(1,parameters),1)"
   ]
  },
  {
   "cell_type": "code",
   "execution_count": 775,
   "metadata": {},
   "outputs": [],
   "source": [
    "parameters = init_parameters()\n",
    "\n",
    "current_epoch = 0\n",
    "train_loss_list = []\n",
    "valid_loss_list = []\n",
    "train_accu_list = []\n",
    "valid_accu_list = []"
   ]
  },
  {
   "cell_type": "code",
   "execution_count": 776,
   "metadata": {},
   "outputs": [
    {
     "data": {
      "text/plain": [
       "0.1005"
      ]
     },
     "execution_count": 776,
     "metadata": {},
     "output_type": "execute_result"
    }
   ],
   "source": [
    "# Before the training\n",
    "valid_accuracy(parameters)"
   ]
  },
  {
   "cell_type": "code",
   "execution_count": 777,
   "metadata": {},
   "outputs": [],
   "source": [
    "# progress bar\n",
    "from tqdm import tqdm_notebook "
   ]
  },
  {
   "cell_type": "code",
   "execution_count": 778,
   "metadata": {},
   "outputs": [
    {
     "data": {
      "application/vnd.jupyter.widget-view+json": {
       "model_id": "b4f6586387b44335b0471d4b21ba10f9",
       "version_major": 2,
       "version_minor": 0
      },
      "text/plain": [
       "HBox(children=(IntProgress(value=0, max=20), HTML(value='')))"
      ]
     },
     "metadata": {},
     "output_type": "display_data"
    }
   ],
   "source": [
    "# learn_rate = 1 # 0.5\n",
    "learn_rate = 10**-0.6\n",
    "epoch_num = 20 # 10\n",
    "for epoch in tqdm_notebook(range(epoch_num)):\n",
    "    for i in range(train_num//batch_size):\n",
    "#         if i%100 == 99:\n",
    "#             pass\n",
    "#             print('running_batch {}/{}'.format(i+1,train_num//batch_size))\n",
    "        grad_tmp = train_batch(i,parameters)\n",
    "            #Temporary gradient(临时梯度)\n",
    "\n",
    "        parameters = combine_parameters(parameters,grad_tmp,learn_rate)   \n",
    "    current_epoch += 1\n",
    "    train_loss_list.append(train_loss(parameters))\n",
    "    valid_loss_list.append(valid_loss(parameters))\n",
    "    train_accu_list.append(train_accuracy(parameters))\n",
    "    valid_accu_list.append(valid_accuracy(parameters))"
   ]
  },
  {
   "cell_type": "code",
   "execution_count": 779,
   "metadata": {},
   "outputs": [
    {
     "data": {
      "text/plain": [
       "0.9301"
      ]
     },
     "execution_count": 779,
     "metadata": {},
     "output_type": "execute_result"
    }
   ],
   "source": [
    "# After the training\n",
    "valid_accuracy(parameters)"
   ]
  },
  {
   "cell_type": "code",
   "execution_count": 780,
   "metadata": {},
   "outputs": [],
   "source": [
    "#parameters"
   ]
  },
  {
   "cell_type": "code",
   "execution_count": 781,
   "metadata": {},
   "outputs": [
    {
     "data": {
      "text/plain": [
       "0.9301"
      ]
     },
     "execution_count": 781,
     "metadata": {},
     "output_type": "execute_result"
    }
   ],
   "source": [
    "train_accuracy(parameters)"
   ]
  },
  {
   "cell_type": "code",
   "execution_count": 782,
   "metadata": {},
   "outputs": [
    {
     "data": {
      "text/plain": [
       "1083.4110529611046"
      ]
     },
     "execution_count": 782,
     "metadata": {},
     "output_type": "execute_result"
    }
   ],
   "source": [
    "valid_loss(parameters)"
   ]
  },
  {
   "cell_type": "code",
   "execution_count": 783,
   "metadata": {},
   "outputs": [
    {
     "data": {
      "text/plain": [
       "1121.0044086653566"
      ]
     },
     "execution_count": 783,
     "metadata": {},
     "output_type": "execute_result"
    }
   ],
   "source": [
    "train_loss(parameters)"
   ]
  },
  {
   "cell_type": "code",
   "execution_count": 784,
   "metadata": {},
   "outputs": [
    {
     "data": {
      "image/png": "[encoded data removed]",
      "text/plain": [
       "<Figure size 432x288 with 1 Axes>"
      ]
     },
     "metadata": {
      "needs_background": "light"
     },
     "output_type": "display_data"
    }
   ],
   "source": [
    "# lower = 0\n",
    "# plt.plot(valid_loss_list[lower:], color='black', label='validation loss')\n",
    "plt.plot(valid_loss_list, color='black', label='validation loss')\n",
    "plt.plot(train_loss_list, color='red', label='train loss')\n",
    "plt.show()"
   ]
  },
  {
   "cell_type": "code",
   "execution_count": 785,
   "metadata": {},
   "outputs": [
    {
     "data": {
      "image/png": "[encoded data removed]",
      "text/plain": [
       "<Figure size 432x288 with 1 Axes>"
      ]
     },
     "metadata": {
      "needs_background": "light"
     },
     "output_type": "display_data"
    }
   ],
   "source": [
    "plt.plot(valid_accu_list, color='black', label='validation accuracy')\n",
    "plt.plot(train_accu_list, color='red', label='train accuracy')\n",
    "plt.show()"
   ]
  },
  {
   "cell_type": "code",
   "execution_count": 708,
   "metadata": {},
   "outputs": [],
   "source": [
    "'''\n",
    "    学习率是否合理？\n",
    "        1. loss是否稳定下降\n",
    "        2. validation是否稳定上升\n",
    "    \n",
    "    Is the learning rate reasonable?\n",
    "        1. Whether the loss is steadily decreased\n",
    "        2. Validation is rising steadily\n",
    "'''\n",
    "pass"
   ]
  },
  {
   "cell_type": "code",
   "execution_count": null,
   "metadata": {},
   "outputs": [],
   "source": []
  },
  {
   "cell_type": "code",
   "execution_count": null,
   "metadata": {},
   "outputs": [],
   "source": []
  },
  {
   "cell_type": "code",
   "execution_count": null,
   "metadata": {},
   "outputs": [],
   "source": []
  }
 ],
 "metadata": {
  "kernelspec": {
   "display_name": "Python 3",
   "language": "python",
   "name": "python3"
  },
  "language_info": {
   "codemirror_mode": {
    "name": "ipython",
    "version": 3
   },
   "file_extension": ".py",
   "mimetype": "text/x-python",
   "name": "python",
   "nbconvert_exporter": "python",
   "pygments_lexer": "ipython3",
   "version": "3.7.1"
  }
 },
 "nbformat": 4,
 "nbformat_minor": 2
}
